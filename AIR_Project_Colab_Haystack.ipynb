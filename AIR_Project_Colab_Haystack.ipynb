{
  "nbformat": 4,
  "nbformat_minor": 0,
  "metadata": {
    "colab": {
      "provenance": [],
      "gpuType": "T4"
    },
    "kernelspec": {
      "name": "python3",
      "display_name": "Python 3"
    },
    "language_info": {
      "name": "python"
    },
    "accelerator": "GPU"
  },
  "cells": [
    {
      "cell_type": "code",
      "source": [
        "# !pip install logging\n",
        "# !pip install farm-haystack\n",
        "# !pip install sentence-transformers\n",
        "# !pip install seqeval"
      ],
      "metadata": {
        "id": "lsKIbSzwYAUy"
      },
      "execution_count": 11,
      "outputs": []
    },
    {
      "cell_type": "code",
      "source": [
        "from google.colab import drive\n",
        "drive.mount('/content/drive')"
      ],
      "metadata": {
        "colab": {
          "base_uri": "https://localhost:8080/"
        },
        "id": "-tEvG_2I7dQU",
        "outputId": "6155b4c4-7832-45ef-964a-91d415ea0864"
      },
      "execution_count": 12,
      "outputs": [
        {
          "output_type": "stream",
          "name": "stdout",
          "text": [
            "Drive already mounted at /content/drive; to attempt to forcibly remount, call drive.mount(\"/content/drive\", force_remount=True).\n"
          ]
        }
      ]
    },
    {
      "cell_type": "code",
      "source": [
        "import logging\n",
        "\n",
        "logging.basicConfig(format=\"%(levelname)s - %(name)s -  %(message)s\", level=logging.WARNING)\n",
        "logging.getLogger(\"haystack\").setLevel(logging.INFO)\n",
        "\n",
        "# Here are some imports that we'll need\n",
        "\n",
        "from haystack.nodes import DensePassageRetriever\n",
        "#from haystack.utils import fetch_archive_from_http\n",
        "from haystack.document_stores import InMemoryDocumentStore"
      ],
      "metadata": {
        "id": "ZMvZxMztEksA"
      },
      "execution_count": 13,
      "outputs": []
    },
    {
      "cell_type": "code",
      "execution_count": 14,
      "metadata": {
        "id": "UK-iPGHEXjie"
      },
      "outputs": [],
      "source": [
        "# Here are the variables you might want to use instead of the set above\n",
        "# in order to perform pretraining\n",
        "\n",
        "doc_dir = \"/content/drive/MyDrive/AIR Project\"\n",
        "train_filename = \"GermanQuAD_train_converted.json\"\n",
        "dev_filename = \"GermanQuAD_test_converted.json\"\n",
        "\n",
        "query_model = \"facebook/dpr-question_encoder-single-nq-base\"\n",
        "passage_model = \"facebook/dpr-ctx_encoder-single-nq-base\"\n",
        "\n",
        "save_dir = \"/content/drive/MyDrive/AIR Project/GermanQuAD saved model\""
      ]
    },
    {
      "cell_type": "code",
      "source": [
        "# Initialize DPR model\n",
        "\n",
        "retriever = DensePassageRetriever(\n",
        "    document_store=InMemoryDocumentStore(),\n",
        "    query_embedding_model=query_model,\n",
        "    passage_embedding_model=passage_model,\n",
        "    max_seq_len_query=64,\n",
        "    max_seq_len_passage=256,\n",
        ")\n",
        "\n",
        "# Start training our model and save it when it is finished\n",
        "\n",
        "retriever.train(\n",
        "    data_dir=doc_dir,\n",
        "    train_filename=train_filename,\n",
        "    dev_filename=dev_filename,\n",
        "    test_filename=dev_filename,\n",
        "    n_epochs=1,\n",
        "    batch_size=4,\n",
        "    grad_acc_steps=8,\n",
        "    save_dir=save_dir,\n",
        "    evaluate_every=3000,\n",
        "    embed_title=True,\n",
        "    num_positives=1,\n",
        "    num_hard_negatives=1,\n",
        ")"
      ],
      "metadata": {
        "colab": {
          "base_uri": "https://localhost:8080/"
        },
        "id": "xM8IihLGXvTy",
        "outputId": "2e0be4d0-7094-49d5-809e-f99d982efa17"
      },
      "execution_count": 15,
      "outputs": [
        {
          "output_type": "stream",
          "name": "stderr",
          "text": [
            "INFO:haystack.modeling.utils:Using devices: CUDA:0 - Number of GPUs: 1\n",
            "INFO:haystack.modeling.utils:Using devices: CUDA:0 - Number of GPUs: 1\n",
            "INFO:haystack.modeling.model.language_model:Auto-detected model language: english\n",
            "INFO:haystack.modeling.model.language_model:Auto-detected model language: english\n",
            "INFO:haystack.modeling.data_handler.data_silo:\n",
            "Loading data into the data silo ... \n",
            "              ______\n",
            "               |o  |   !\n",
            "   __          |:`_|---'-.\n",
            "  |__|______.-/ _ \\-----.|\n",
            " (o)(o)------'\\ _ /     ( )\n",
            " \n",
            "INFO:haystack.modeling.data_handler.data_silo:LOADING TRAIN DATA\n",
            "INFO:haystack.modeling.data_handler.data_silo:==================\n",
            "INFO:haystack.modeling.data_handler.data_silo:Loading train set from: /content/drive/MyDrive/AIR Project/GermanQuAD_train_converted.json \n",
            "Preprocessing dataset: 100%|██████████| 23/23 [00:25<00:00,  1.09s/ Dicts]\n",
            "INFO:haystack.modeling.data_handler.data_silo:\n",
            "INFO:haystack.modeling.data_handler.data_silo:LOADING DEV DATA\n",
            "INFO:haystack.modeling.data_handler.data_silo:=================\n",
            "INFO:haystack.modeling.data_handler.data_silo:Loading dev set from: /content/drive/MyDrive/AIR Project/GermanQuAD_test_converted.json\n",
            "Preprocessing dataset: 100%|██████████| 5/5 [00:08<00:00,  1.65s/ Dicts]\n",
            "INFO:haystack.modeling.data_handler.data_silo:\n",
            "INFO:haystack.modeling.data_handler.data_silo:LOADING TEST DATA\n",
            "INFO:haystack.modeling.data_handler.data_silo:=================\n",
            "INFO:haystack.modeling.data_handler.data_silo:Loading test set from: /content/drive/MyDrive/AIR Project/GermanQuAD_test_converted.json\n",
            "Preprocessing dataset: 100%|██████████| 5/5 [00:06<00:00,  1.27s/ Dicts]\n",
            "INFO:haystack.modeling.data_handler.data_silo:\n",
            "INFO:haystack.modeling.data_handler.data_silo:DATASETS SUMMARY\n",
            "INFO:haystack.modeling.data_handler.data_silo:================\n",
            "INFO:haystack.modeling.data_handler.data_silo:Examples in train: 11518\n",
            "INFO:haystack.modeling.data_handler.data_silo:Examples in dev  : 2204\n",
            "INFO:haystack.modeling.data_handler.data_silo:Examples in test : 2204\n",
            "INFO:haystack.modeling.data_handler.data_silo:Total examples   : 15926\n",
            "INFO:haystack.modeling.data_handler.data_silo:\n",
            "INFO:haystack.modeling.data_handler.data_silo:Longest query length observed after clipping: 50   - for max_query_len: 64\n",
            "INFO:haystack.modeling.data_handler.data_silo:Average query length after clipping:          20.60027782601146\n",
            "INFO:haystack.modeling.data_handler.data_silo:Proportion queries clipped:                   0.0\n",
            "INFO:haystack.modeling.data_handler.data_silo:\n",
            "INFO:haystack.modeling.data_handler.data_silo:Longest passage length observed after clipping: 129.5   - for max_passage_len: 256\n",
            "INFO:haystack.modeling.data_handler.data_silo:Average passage length after clipping:          126.57874631012328\n",
            "INFO:haystack.modeling.data_handler.data_silo:Proportion passages clipped:                    0.0\n",
            "INFO:haystack.modeling.model.optimization:Loading optimizer 'AdamW': {'correct_bias': True, 'weight_decay': 0.0, 'eps': 1e-08, 'lr': 1e-05}\n",
            "INFO:haystack.modeling.model.optimization:Using scheduler 'get_linear_schedule_with_warmup'\n",
            "INFO:haystack.modeling.model.optimization:Loading schedule 'get_linear_schedule_with_warmup': '{'num_warmup_steps': 100, 'num_training_steps': 360}'\n",
            "INFO:haystack.modeling.training.base:No train checkpoints found. Starting a new training ...\n",
            "Train epoch 0/0 (Cur. train loss: 0.0114): 100%|██████████| 2880/2880 [22:01<00:00,  2.18it/s]\n",
            "Evaluating: 100%|██████████| 551/551 [01:22<00:00,  6.67it/s]\n",
            "INFO:haystack.modeling.evaluation.eval:\n",
            "\n",
            "\\\\|//       \\\\|//      \\\\|//       \\\\|//     \\\\|//\n",
            "^^^^^^^^^^^^^^^^^^^^^^^^^^^^^^^^^^^^^^^^^^^^^^^^^^^^^^\n",
            "***************************************************\n",
            "***** EVALUATION | TEST SET | AFTER 2880 BATCHES *****\n",
            "***************************************************\n",
            "\\\\|//       \\\\|//      \\\\|//       \\\\|//     \\\\|//\n",
            "^^^^^^^^^^^^^^^^^^^^^^^^^^^^^^^^^^^^^^^^^^^^^^^^^^^^^^\n",
            "\n",
            "INFO:haystack.modeling.evaluation.eval:\n",
            " _________ text_similarity _________\n",
            "INFO:haystack.modeling.evaluation.eval:loss: 0.21550037061268748\n",
            "INFO:haystack.modeling.evaluation.eval:task_name: text_similarity\n",
            "INFO:haystack.modeling.evaluation.eval:acc: 0.9765199637023594\n",
            "INFO:haystack.modeling.evaluation.eval:f1: 0.9060798548094374\n",
            "INFO:haystack.modeling.evaluation.eval:acc_and_f1: 0.9412999092558985\n",
            "INFO:haystack.modeling.evaluation.eval:average_rank: 0.13520871143375682\n",
            "INFO:haystack.modeling.evaluation.eval:report: \n",
            "                precision    recall  f1-score   support\n",
            "\n",
            "hard_negative     0.9866    0.9866    0.9866     15428\n",
            "     positive     0.9061    0.9061    0.9061      2204\n",
            "\n",
            "     accuracy                         0.9765     17632\n",
            "    macro avg     0.9463    0.9463    0.9463     17632\n",
            " weighted avg     0.9765    0.9765    0.9765     17632\n",
            "\n",
            "INFO:haystack.modeling.model.biadaptive_model:prediction_head saving\n"
          ]
        }
      ]
    },
    {
      "cell_type": "markdown",
      "source": [
        "**Ouput GermanQuAD:**\n",
        "\n",
        "\\\\|//       \\\\|//      \\\\|//       \\\\|//     \\\\|//\n",
        "^^^^^^^^^^^^^^^^^^^^^^^^^^^^^^^^^^^^^^^^^^^^^^^^^^^^^^\n",
        "***************************************************\n",
        "***** EVALUATION | TEST SET | AFTER 2880 BATCHES *****\n",
        "***************************************************\n",
        "\\\\|//       \\\\|//      \\\\|//       \\\\|//     \\\\|//\n",
        "^^^^^^^^^^^^^^^^^^^^^^^^^^^^^^^^^^^^^^^^^^^^^^^^^^^^^^\n",
        "\n",
        "INFO:haystack.modeling.evaluation.eval:\n",
        " _________ text_similarity _________\n",
        "INFO:haystack.modeling.evaluation.eval:loss: 0.21550037061268748\n",
        "INFO:haystack.modeling.evaluation.eval:task_name: text_similarity\n",
        "INFO:haystack.modeling.evaluation.eval:acc: 0.9765199637023594\n",
        "INFO:haystack.modeling.evaluation.eval:f1: 0.9060798548094374\n",
        "INFO:haystack.modeling.evaluation.eval:acc_and_f1: 0.9412999092558985\n",
        "INFO:haystack.modeling.evaluation.eval:average_rank: 0.13520871143375682\n",
        "INFO:haystack.modeling.evaluation.eval:report:\n",
        "                precision    recall  f1-score   support\n",
        "\n",
        "hard_negative     0.9866    0.9866    0.9866     15428\n",
        "     positive     0.9061    0.9061    0.9061      2204\n",
        "\n",
        "     accuracy                         0.9765     17632\n",
        "    macro avg     0.9463    0.9463    0.9463     17632\n",
        " weighted avg     0.9765    0.9765    0.9765     17632\n",
        "\n",
        "INFO:haystack.modeling.model.biadaptive_model:prediction_head saving"
      ],
      "metadata": {
        "id": "CiIRqPX9lSrg"
      }
    },
    {
      "cell_type": "markdown",
      "source": [
        "**Output GermanDPR**\n",
        "\n",
        "\\\\|//       \\\\|//      \\\\|//       \\\\|//     \\\\|//\n",
        "^^^^^^^^^^^^^^^^^^^^^^^^^^^^^^^^^^^^^^^^^^^^^^^^^^^^^^\n",
        "***************************************************\n",
        "***** EVALUATION | TEST SET | AFTER 2319 BATCHES *****\n",
        "***************************************************\n",
        "\\\\|//       \\\\|//      \\\\|//       \\\\|//     \\\\|//\n",
        "^^^^^^^^^^^^^^^^^^^^^^^^^^^^^^^^^^^^^^^^^^^^^^^^^^^^^^\n",
        "\n",
        "INFO:haystack.modeling.evaluation.eval:\n",
        " _________ text_similarity _________\n",
        "INFO:haystack.modeling.evaluation.eval:loss: 0.3636443769713743\n",
        "INFO:haystack.modeling.evaluation.eval:task_name: text_similarity\n",
        "INFO:haystack.modeling.evaluation.eval:acc: 0.9433731999023676\n",
        "INFO:haystack.modeling.evaluation.eval:f1: 0.7736585365853659\n",
        "INFO:haystack.modeling.evaluation.eval:acc_and_f1: 0.8585158682438667\n",
        "INFO:haystack.modeling.evaluation.eval:average_rank: 0.36\n",
        "INFO:haystack.modeling.evaluation.eval:report:\n",
        "                precision    recall  f1-score   support\n",
        "\n",
        "hard_negative     0.9676    0.9676    0.9676      7169\n",
        "     positive     0.7737    0.7737    0.7737      1025\n",
        "\n",
        "     accuracy                         0.9434      8194\n",
        "    macro avg     0.8706    0.8706    0.8706      8194\n",
        " weighted avg     0.9434    0.9434    0.9434      8194\n",
        "\n",
        "INFO:haystack.modeling.model.biadaptive_model:prediction_head saving"
      ],
      "metadata": {
        "id": "il-e4PT1dgeX"
      }
    },
    {
      "cell_type": "code",
      "source": [],
      "metadata": {
        "id": "SbfqQR_TdlHj"
      },
      "execution_count": 15,
      "outputs": []
    }
  ]
}