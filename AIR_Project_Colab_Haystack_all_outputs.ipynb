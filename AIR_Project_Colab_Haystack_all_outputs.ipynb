{
  "nbformat": 4,
  "nbformat_minor": 0,
  "metadata": {
    "colab": {
      "provenance": [],
      "gpuType": "T4"
    },
    "kernelspec": {
      "name": "python3",
      "display_name": "Python 3"
    },
    "language_info": {
      "name": "python"
    },
    "accelerator": "GPU"
  },
  "cells": [
    {
      "cell_type": "code",
      "source": [
        "# !pip install logging\n",
        "# !pip install farm-haystack\n",
        "# !pip install sentence-transformers\n",
        "# !pip install seqeval"
      ],
      "metadata": {
        "id": "lsKIbSzwYAUy"
      },
      "execution_count": 22,
      "outputs": []
    },
    {
      "cell_type": "code",
      "source": [
        "# from google.colab import drive\n",
        "# drive.mount('/content/drive')"
      ],
      "metadata": {
        "id": "-tEvG_2I7dQU"
      },
      "execution_count": 23,
      "outputs": []
    },
    {
      "cell_type": "code",
      "source": [
        "import logging\n",
        "\n",
        "logging.basicConfig(format=\"%(levelname)s - %(name)s -  %(message)s\", level=logging.WARNING)\n",
        "logging.getLogger(\"haystack\").setLevel(logging.INFO)\n",
        "\n",
        "# Here are some imports that we'll need\n",
        "\n",
        "from haystack.nodes import DensePassageRetriever\n",
        "#from haystack.utils import fetch_archive_from_http\n",
        "from haystack.document_stores import InMemoryDocumentStore"
      ],
      "metadata": {
        "id": "ZMvZxMztEksA"
      },
      "execution_count": 24,
      "outputs": []
    },
    {
      "cell_type": "code",
      "execution_count": 25,
      "metadata": {
        "id": "UK-iPGHEXjie"
      },
      "outputs": [],
      "source": [
        "# Here are the variables you might want to use instead of the set above\n",
        "# in order to perform pretraining\n",
        "\n",
        "doc_dir = \"/content/drive/MyDrive/AIR Project\"\n",
        "train_filename = \"GermanQuAD_train_converted.json\"\n",
        "dev_filename = \"GermanQuAD_train_converted.json\"\n",
        "\n",
        "query_model = \"facebook/dpr-question_encoder-single-nq-base\"\n",
        "passage_model = \"facebook/dpr-ctx_encoder-single-nq-base\"\n",
        "\n",
        "save_dir = \"/content/drive/MyDrive/AIR Project/GermanQuAD train eq test\""
      ]
    },
    {
      "cell_type": "code",
      "source": [
        "# Initialize DPR model\n",
        "\n",
        "retriever = DensePassageRetriever(\n",
        "    document_store=InMemoryDocumentStore(),\n",
        "    query_embedding_model=query_model,\n",
        "    passage_embedding_model=passage_model,\n",
        "    max_seq_len_query=64,\n",
        "    max_seq_len_passage=256,\n",
        ")\n",
        "\n",
        "# Start training our model and save it when it is finished\n",
        "\n",
        "retriever.train(\n",
        "    data_dir=doc_dir,\n",
        "    train_filename=train_filename,\n",
        "    dev_filename=dev_filename,\n",
        "    test_filename=dev_filename,\n",
        "    n_epochs=1,\n",
        "    batch_size=16,\n",
        "    grad_acc_steps=8,\n",
        "    save_dir=save_dir,\n",
        "    evaluate_every=3000,\n",
        "    embed_title=True,\n",
        "    num_positives=1,\n",
        "    num_hard_negatives=1,\n",
        ")"
      ],
      "metadata": {
        "colab": {
          "base_uri": "https://localhost:8080/"
        },
        "id": "xM8IihLGXvTy",
        "outputId": "14e2ca77-b4f7-4154-b8bc-92e13dbe94e1"
      },
      "execution_count": 26,
      "outputs": [
        {
          "output_type": "stream",
          "name": "stderr",
          "text": [
            "INFO:haystack.modeling.utils:Using devices: CUDA:0 - Number of GPUs: 1\n",
            "INFO:haystack.modeling.utils:Using devices: CUDA:0 - Number of GPUs: 1\n",
            "/usr/local/lib/python3.10/dist-packages/huggingface_hub/utils/_token.py:72: UserWarning: \n",
            "The secret `HF_TOKEN` does not exist in your Colab secrets.\n",
            "To authenticate with the Hugging Face Hub, create a token in your settings tab (https://huggingface.co/settings/tokens), set it as secret in your Google Colab and restart your session.\n",
            "You will be able to reuse this secret in all of your notebooks.\n",
            "Please note that authentication is recommended but still optional to access public models or datasets.\n",
            "  warnings.warn(\n",
            "INFO:haystack.modeling.model.language_model:Auto-detected model language: english\n",
            "INFO:haystack.modeling.model.language_model:Auto-detected model language: english\n",
            "INFO:haystack.modeling.data_handler.data_silo:\n",
            "Loading data into the data silo ... \n",
            "              ______\n",
            "               |o  |   !\n",
            "   __          |:`_|---'-.\n",
            "  |__|______.-/ _ \\-----.|\n",
            " (o)(o)------'\\ _ /     ( )\n",
            " \n",
            "INFO:haystack.modeling.data_handler.data_silo:LOADING TRAIN DATA\n",
            "INFO:haystack.modeling.data_handler.data_silo:==================\n",
            "INFO:haystack.modeling.data_handler.data_silo:Loading train set from: /content/drive/MyDrive/AIR Project/GermanQuAD_train_converted.json \n",
            "Preprocessing dataset: 100%|██████████| 23/23 [00:29<00:00,  1.27s/ Dicts]\n",
            "INFO:haystack.modeling.data_handler.data_silo:\n",
            "INFO:haystack.modeling.data_handler.data_silo:LOADING DEV DATA\n",
            "INFO:haystack.modeling.data_handler.data_silo:=================\n",
            "INFO:haystack.modeling.data_handler.data_silo:Loading dev set from: /content/drive/MyDrive/AIR Project/GermanQuAD_train_converted.json\n",
            "Preprocessing dataset: 100%|██████████| 23/23 [00:30<00:00,  1.31s/ Dicts]\n",
            "INFO:haystack.modeling.data_handler.data_silo:\n",
            "INFO:haystack.modeling.data_handler.data_silo:LOADING TEST DATA\n",
            "INFO:haystack.modeling.data_handler.data_silo:=================\n",
            "INFO:haystack.modeling.data_handler.data_silo:Loading test set from: /content/drive/MyDrive/AIR Project/GermanQuAD_train_converted.json\n",
            "Preprocessing dataset: 100%|██████████| 23/23 [00:29<00:00,  1.26s/ Dicts]\n",
            "INFO:haystack.modeling.data_handler.data_silo:\n",
            "INFO:haystack.modeling.data_handler.data_silo:DATASETS SUMMARY\n",
            "INFO:haystack.modeling.data_handler.data_silo:================\n",
            "INFO:haystack.modeling.data_handler.data_silo:Examples in train: 11518\n",
            "INFO:haystack.modeling.data_handler.data_silo:Examples in dev  : 11518\n",
            "INFO:haystack.modeling.data_handler.data_silo:Examples in test : 11518\n",
            "INFO:haystack.modeling.data_handler.data_silo:Total examples   : 34554\n",
            "INFO:haystack.modeling.data_handler.data_silo:\n",
            "INFO:haystack.modeling.data_handler.data_silo:Longest query length observed after clipping: 50   - for max_query_len: 64\n",
            "INFO:haystack.modeling.data_handler.data_silo:Average query length after clipping:          20.60027782601146\n",
            "INFO:haystack.modeling.data_handler.data_silo:Proportion queries clipped:                   0.0\n",
            "INFO:haystack.modeling.data_handler.data_silo:\n",
            "INFO:haystack.modeling.data_handler.data_silo:Longest passage length observed after clipping: 129.5   - for max_passage_len: 256\n",
            "INFO:haystack.modeling.data_handler.data_silo:Average passage length after clipping:          126.57874631012328\n",
            "INFO:haystack.modeling.data_handler.data_silo:Proportion passages clipped:                    0.0\n",
            "INFO:haystack.modeling.model.optimization:Loading optimizer 'AdamW': {'correct_bias': True, 'weight_decay': 0.0, 'eps': 1e-08, 'lr': 1e-05}\n",
            "INFO:haystack.modeling.model.optimization:Using scheduler 'get_linear_schedule_with_warmup'\n",
            "INFO:haystack.modeling.model.optimization:Loading schedule 'get_linear_schedule_with_warmup': '{'num_warmup_steps': 100, 'num_training_steps': 90}'\n",
            "INFO:haystack.modeling.training.base:No train checkpoints found. Starting a new training ...\n",
            "Train epoch 0/0 (Cur. train loss: 0.1348): 100%|██████████| 720/720 [19:50<00:00,  1.65s/it]\n",
            "Evaluating: 100%|██████████| 720/720 [07:18<00:00,  1.64it/s]\n",
            "INFO:haystack.modeling.evaluation.eval:\n",
            "\n",
            "\\\\|//       \\\\|//      \\\\|//       \\\\|//     \\\\|//\n",
            "^^^^^^^^^^^^^^^^^^^^^^^^^^^^^^^^^^^^^^^^^^^^^^^^^^^^^^\n",
            "***************************************************\n",
            "***** EVALUATION | TEST SET | AFTER 720 BATCHES *****\n",
            "***************************************************\n",
            "\\\\|//       \\\\|//      \\\\|//       \\\\|//     \\\\|//\n",
            "^^^^^^^^^^^^^^^^^^^^^^^^^^^^^^^^^^^^^^^^^^^^^^^^^^^^^^\n",
            "\n",
            "INFO:haystack.modeling.evaluation.eval:\n",
            " _________ text_similarity _________\n",
            "INFO:haystack.modeling.evaluation.eval:loss: 0.04904071882886366\n",
            "INFO:haystack.modeling.evaluation.eval:task_name: text_similarity\n",
            "INFO:haystack.modeling.evaluation.eval:acc: 0.9926571149462716\n",
            "INFO:haystack.modeling.evaluation.eval:f1: 0.8825316895294322\n",
            "INFO:haystack.modeling.evaluation.eval:acc_and_f1: 0.937594402237852\n",
            "INFO:haystack.modeling.evaluation.eval:average_rank: 0.3722000347282514\n",
            "INFO:haystack.modeling.evaluation.eval:report: \n",
            "                precision    recall  f1-score   support\n",
            "\n",
            "hard_negative     0.9962    0.9962    0.9962    357002\n",
            "     positive     0.8825    0.8825    0.8825     11518\n",
            "\n",
            "     accuracy                         0.9927    368520\n",
            "    macro avg     0.9394    0.9394    0.9394    368520\n",
            " weighted avg     0.9927    0.9927    0.9927    368520\n",
            "\n",
            "INFO:haystack.modeling.model.biadaptive_model:prediction_head saving\n"
          ]
        }
      ]
    },
    {
      "cell_type": "markdown",
      "source": [
        "**Output train only first entry of GermanQuAD:**\n",
        "---------------------------------------------------\n",
        "\n",
        "\\\\|//       \\\\|//      \\\\|//       \\\\|//     \\\\|//\n",
        "^^^^^^^^^^^^^^^^^^^^^^^^^^^^^^^^^^^^^^^^^^^^^^^^^^^^^^\n",
        "***************************************************\n",
        "***** EVALUATION | TEST SET | AFTER 1 BATCHES *****\n",
        "***************************************************\n",
        "\\\\|//       \\\\|//      \\\\|//       \\\\|//     \\\\|//\n",
        "^^^^^^^^^^^^^^^^^^^^^^^^^^^^^^^^^^^^^^^^^^^^^^^^^^^^^^\n",
        "\n",
        "INFO:haystack.modeling.evaluation.eval:\n",
        " _________ text_similarity _________\n",
        "INFO:haystack.modeling.evaluation.eval:loss: 0.16717383376375083\n",
        "INFO:haystack.modeling.evaluation.eval:task_name: text_similarity\n",
        "INFO:haystack.modeling.evaluation.eval:acc: 0.9715754202635166\n",
        "INFO:haystack.modeling.evaluation.eval:f1: 0.5458257713248639\n",
        "INFO:haystack.modeling.evaluation.eval:acc_and_f1: 0.7587005957941902\n",
        "INFO:haystack.modeling.evaluation.eval:average_rank: 1.7599818511796734\n",
        "INFO:haystack.modeling.evaluation.eval:report:\n",
        "                precision    recall  f1-score   support\n",
        "\n",
        "hard_negative     0.9853    0.9853    0.9853     68228\n",
        "     positive     0.5458    0.5458    0.5458      2204\n",
        "\n",
        "     accuracy                         0.9716     70432\n",
        "    macro avg     0.7656    0.7656    0.7656     70432\n",
        " weighted avg     0.9716    0.9716    0.9716     70432"
      ],
      "metadata": {
        "id": "AbnnBtaVjsxR"
      }
    },
    {
      "cell_type": "markdown",
      "source": [
        "**Output train only first entry of GermanDPR:**\n",
        "---------------------------------------------------\n",
        "\n",
        "\\\\|//       \\\\|//      \\\\|//       \\\\|//     \\\\|//\n",
        "^^^^^^^^^^^^^^^^^^^^^^^^^^^^^^^^^^^^^^^^^^^^^^^^^^^^^^\n",
        "***************************************************\n",
        "***** EVALUATION | TEST SET | AFTER 1 BATCHES *****\n",
        "***************************************************\n",
        "\\\\|//       \\\\|//      \\\\|//       \\\\|//     \\\\|//\n",
        "^^^^^^^^^^^^^^^^^^^^^^^^^^^^^^^^^^^^^^^^^^^^^^^^^^^^^^\n",
        "\n",
        "INFO:haystack.modeling.evaluation.eval:\n",
        " _________ text_similarity _________\n",
        "INFO:haystack.modeling.evaluation.eval:loss: 0.21136056818477256\n",
        "INFO:haystack.modeling.evaluation.eval:task_name: text_similarity\n",
        "INFO:haystack.modeling.evaluation.eval:acc: 0.9636252670125114\n",
        "INFO:haystack.modeling.evaluation.eval:f1: 0.41853658536585364\n",
        "INFO:haystack.modeling.evaluation.eval:acc_and_f1: 0.6910809261891825\n",
        "INFO:haystack.modeling.evaluation.eval:average_rank: 3.08\n",
        "INFO:haystack.modeling.evaluation.eval:report:\n",
        "                precision    recall  f1-score   support\n",
        "\n",
        "hard_negative     0.9812    0.9812    0.9812     31745\n",
        "     positive     0.4185    0.4185    0.4185      1025\n",
        "\n",
        "     accuracy                         0.9636     32770\n",
        "    macro avg     0.6999    0.6999    0.6999     32770\n",
        " weighted avg     0.9636    0.9636    0.9636     32770"
      ],
      "metadata": {
        "id": "p7Fd3C4Llkqd"
      }
    },
    {
      "cell_type": "markdown",
      "source": [
        "**Ouput finetuned GermanQuAD:**\n",
        "---------------------------------------------------\n",
        "\n",
        "\\\\|//       \\\\|//      \\\\|//       \\\\|//     \\\\|//\n",
        "^^^^^^^^^^^^^^^^^^^^^^^^^^^^^^^^^^^^^^^^^^^^^^^^^^^^^^\n",
        "***************************************************\n",
        "***** EVALUATION | TEST SET | AFTER 2880 BATCHES *****\n",
        "***************************************************\n",
        "\\\\|//       \\\\|//      \\\\|//       \\\\|//     \\\\|//\n",
        "^^^^^^^^^^^^^^^^^^^^^^^^^^^^^^^^^^^^^^^^^^^^^^^^^^^^^^\n",
        "\n",
        "INFO:haystack.modeling.evaluation.eval:\n",
        " _________ text_similarity _________\n",
        "INFO:haystack.modeling.evaluation.eval:loss: 0.21550037061268748\n",
        "INFO:haystack.modeling.evaluation.eval:task_name: text_similarity\n",
        "INFO:haystack.modeling.evaluation.eval:acc: 0.9765199637023594\n",
        "INFO:haystack.modeling.evaluation.eval:f1: 0.9060798548094374\n",
        "INFO:haystack.modeling.evaluation.eval:acc_and_f1: 0.9412999092558985\n",
        "INFO:haystack.modeling.evaluation.eval:average_rank: 0.13520871143375682\n",
        "INFO:haystack.modeling.evaluation.eval:report:\n",
        "                precision    recall  f1-score   support\n",
        "\n",
        "hard_negative     0.9866    0.9866    0.9866     15428\n",
        "     positive     0.9061    0.9061    0.9061      2204\n",
        "\n",
        "     accuracy                         0.9765     17632\n",
        "    macro avg     0.9463    0.9463    0.9463     17632\n",
        " weighted avg     0.9765    0.9765    0.9765     17632"
      ],
      "metadata": {
        "id": "CiIRqPX9lSrg"
      }
    },
    {
      "cell_type": "markdown",
      "source": [
        "**Output finetuned GermanDPR**\n",
        "---------------------------------------------------\n",
        "\n",
        "\\\\|//       \\\\|//      \\\\|//       \\\\|//     \\\\|//\n",
        "^^^^^^^^^^^^^^^^^^^^^^^^^^^^^^^^^^^^^^^^^^^^^^^^^^^^^^\n",
        "***************************************************\n",
        "***** EVALUATION | TEST SET | AFTER 2319 BATCHES *****\n",
        "***************************************************\n",
        "\\\\|//       \\\\|//      \\\\|//       \\\\|//     \\\\|//\n",
        "^^^^^^^^^^^^^^^^^^^^^^^^^^^^^^^^^^^^^^^^^^^^^^^^^^^^^^\n",
        "\n",
        "INFO:haystack.modeling.evaluation.eval:\n",
        " _________ text_similarity _________\n",
        "INFO:haystack.modeling.evaluation.eval:loss: 0.3636443769713743\n",
        "INFO:haystack.modeling.evaluation.eval:task_name: text_similarity\n",
        "INFO:haystack.modeling.evaluation.eval:acc: 0.9433731999023676\n",
        "INFO:haystack.modeling.evaluation.eval:f1: 0.7736585365853659\n",
        "INFO:haystack.modeling.evaluation.eval:acc_and_f1: 0.8585158682438667\n",
        "INFO:haystack.modeling.evaluation.eval:average_rank: 0.36\n",
        "INFO:haystack.modeling.evaluation.eval:report:\n",
        "                precision    recall  f1-score   support\n",
        "\n",
        "hard_negative     0.9676    0.9676    0.9676      7169\n",
        "     positive     0.7737    0.7737    0.7737      1025\n",
        "\n",
        "     accuracy                         0.9434      8194\n",
        "    macro avg     0.8706    0.8706    0.8706      8194\n",
        " weighted avg     0.9434    0.9434    0.9434      8194"
      ],
      "metadata": {
        "id": "il-e4PT1dgeX"
      }
    },
    {
      "cell_type": "markdown",
      "source": [
        "**Output train eq test GermanQuAD:**\n",
        "--------------------------------------\n",
        "\n",
        "\\\\|//       \\\\|//      \\\\|//       \\\\|//     \\\\|//\n",
        "^^^^^^^^^^^^^^^^^^^^^^^^^^^^^^^^^^^^^^^^^^^^^^^^^^^^^^\n",
        "***************************************************\n",
        "***** EVALUATION | TEST SET | AFTER 720 BATCHES *****\n",
        "***************************************************\n",
        "\\\\|//       \\\\|//      \\\\|//       \\\\|//     \\\\|//\n",
        "^^^^^^^^^^^^^^^^^^^^^^^^^^^^^^^^^^^^^^^^^^^^^^^^^^^^^^\n",
        "\n",
        "INFO:haystack.modeling.evaluation.eval:\n",
        " _________ text_similarity _________\n",
        "INFO:haystack.modeling.evaluation.eval:loss: 0.04904071882886366\n",
        "INFO:haystack.modeling.evaluation.eval:task_name: text_similarity\n",
        "INFO:haystack.modeling.evaluation.eval:acc: 0.9926571149462716\n",
        "INFO:haystack.modeling.evaluation.eval:f1: 0.8825316895294322\n",
        "INFO:haystack.modeling.evaluation.eval:acc_and_f1: 0.937594402237852\n",
        "INFO:haystack.modeling.evaluation.eval:average_rank: 0.3722000347282514\n",
        "INFO:haystack.modeling.evaluation.eval:report:\n",
        "                precision    recall  f1-score   support\n",
        "\n",
        "hard_negative     0.9962    0.9962    0.9962    357002\n",
        "     positive     0.8825    0.8825    0.8825     11518\n",
        "\n",
        "     accuracy                         0.9927    368520\n",
        "    macro avg     0.9394    0.9394    0.9394    368520\n",
        " weighted avg     0.9927    0.9927    0.9927    368520\n",
        "\n",
        "INFO:haystack.modeling.model.biadaptive_model:prediction_head saving"
      ],
      "metadata": {
        "id": "gRb12_hT4Ar3"
      }
    },
    {
      "cell_type": "markdown",
      "source": [
        "**Output train eq test GermanDPR**:\n",
        "--------------------------------\n",
        "\n",
        "\\\\|//       \\\\|//      \\\\|//       \\\\|//     \\\\|//\n",
        "^^^^^^^^^^^^^^^^^^^^^^^^^^^^^^^^^^^^^^^^^^^^^^^^^^^^^^\n",
        "***************************************************\n",
        "***** EVALUATION | TEST SET | AFTER 580 BATCHES *****\n",
        "***************************************************\n",
        "\\\\|//       \\\\|//      \\\\|//       \\\\|//     \\\\|//\n",
        "^^^^^^^^^^^^^^^^^^^^^^^^^^^^^^^^^^^^^^^^^^^^^^^^^^^^^^\n",
        "\n",
        "INFO:haystack.modeling.evaluation.eval:\n",
        " _________ text_similarity _________\n",
        "INFO:haystack.modeling.evaluation.eval:loss: 0.0869749029682048\n",
        "INFO:haystack.modeling.evaluation.eval:task_name: text_similarity\n",
        "INFO:haystack.modeling.evaluation.eval:acc: 0.9857157302234656\n",
        "INFO:haystack.modeling.evaluation.eval:f1: 0.7715363881401616\n",
        "INFO:haystack.modeling.evaluation.eval:acc_and_f1: 0.8786260591818136\n",
        "INFO:haystack.modeling.evaluation.eval:average_rank: 0.8175741239892184\n",
        "INFO:haystack.modeling.evaluation.eval:report:\n",
        "                precision    recall  f1-score   support\n",
        "\n",
        "hard_negative     0.9926    0.9926    0.9926    287415\n",
        "     positive     0.7715    0.7715    0.7715      9275\n",
        "\n",
        "     accuracy                         0.9857    296690\n",
        "    macro avg     0.8821    0.8821    0.8821    296690\n",
        " weighted avg     0.9857    0.9857    0.9857    296690"
      ],
      "metadata": {
        "id": "aFsOL3VEv51w"
      }
    },
    {
      "cell_type": "code",
      "source": [],
      "metadata": {
        "id": "SbfqQR_TdlHj"
      },
      "execution_count": 26,
      "outputs": []
    }
  ]
}