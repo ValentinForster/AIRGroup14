{
  "nbformat": 4,
  "nbformat_minor": 0,
  "metadata": {
    "colab": {
      "provenance": [],
      "gpuType": "T4"
    },
    "kernelspec": {
      "name": "python3",
      "display_name": "Python 3"
    },
    "language_info": {
      "name": "python"
    },
    "accelerator": "GPU"
  },
  "cells": [
    {
      "cell_type": "code",
      "source": [
        "# !pip install logging\n",
        "# !pip install farm-haystack\n",
        "# !pip install sentence-transformers\n",
        "# !pip install seqeval"
      ],
      "metadata": {
        "id": "lsKIbSzwYAUy"
      },
      "execution_count": 12,
      "outputs": []
    },
    {
      "cell_type": "code",
      "source": [
        "# from google.colab import drive\n",
        "# drive.mount('/content/drive')"
      ],
      "metadata": {
        "id": "-tEvG_2I7dQU"
      },
      "execution_count": 13,
      "outputs": []
    },
    {
      "cell_type": "code",
      "source": [
        "import logging\n",
        "\n",
        "logging.basicConfig(format=\"%(levelname)s - %(name)s -  %(message)s\", level=logging.WARNING)\n",
        "logging.getLogger(\"haystack\").setLevel(logging.INFO)\n",
        "\n",
        "# Here are some imports that we'll need\n",
        "\n",
        "from haystack.nodes import DensePassageRetriever\n",
        "#from haystack.utils import fetch_archive_from_http\n",
        "from haystack.document_stores import InMemoryDocumentStore"
      ],
      "metadata": {
        "id": "ZMvZxMztEksA"
      },
      "execution_count": 14,
      "outputs": []
    },
    {
      "cell_type": "code",
      "execution_count": 15,
      "metadata": {
        "id": "UK-iPGHEXjie"
      },
      "outputs": [],
      "source": [
        "# Here are the variables you might want to use instead of the set above\n",
        "# in order to perform pretraining\n",
        "\n",
        "doc_dir = \"/content/drive/MyDrive/AIR Project\"\n",
        "train_filename = \"GermanDPR_train_first_entry.json\"\n",
        "dev_filename = \"GermanDPR_test.json\"\n",
        "\n",
        "query_model = \"facebook/dpr-question_encoder-single-nq-base\"\n",
        "passage_model = \"facebook/dpr-ctx_encoder-single-nq-base\"\n",
        "\n",
        "save_dir = \"/content/drive/MyDrive/AIR Project/GermanQuAD first entry\""
      ]
    },
    {
      "cell_type": "code",
      "source": [
        "# Initialize DPR model\n",
        "\n",
        "retriever = DensePassageRetriever(\n",
        "    document_store=InMemoryDocumentStore(),\n",
        "    query_embedding_model=query_model,\n",
        "    passage_embedding_model=passage_model,\n",
        "    max_seq_len_query=64,\n",
        "    max_seq_len_passage=256,\n",
        ")\n",
        "\n",
        "# Start training our model and save it when it is finished\n",
        "\n",
        "retriever.train(\n",
        "    data_dir=doc_dir,\n",
        "    train_filename=train_filename,\n",
        "    dev_filename=dev_filename,\n",
        "    test_filename=dev_filename,\n",
        "    n_epochs=1,\n",
        "    batch_size=16,\n",
        "    grad_acc_steps=8,\n",
        "    save_dir=save_dir,\n",
        "    evaluate_every=3000,\n",
        "    embed_title=True,\n",
        "    num_positives=1,\n",
        "    num_hard_negatives=1,\n",
        ")"
      ],
      "metadata": {
        "colab": {
          "base_uri": "https://localhost:8080/"
        },
        "id": "xM8IihLGXvTy",
        "outputId": "9d9677d5-c43a-4639-913f-0503bfe37eff"
      },
      "execution_count": 16,
      "outputs": [
        {
          "output_type": "stream",
          "name": "stderr",
          "text": [
            "INFO:haystack.modeling.utils:Using devices: CUDA:0 - Number of GPUs: 1\n",
            "INFO:haystack.modeling.utils:Using devices: CUDA:0 - Number of GPUs: 1\n",
            "INFO:haystack.modeling.model.language_model:Auto-detected model language: english\n",
            "INFO:haystack.modeling.model.language_model:Auto-detected model language: english\n",
            "INFO:haystack.modeling.data_handler.data_silo:\n",
            "Loading data into the data silo ... \n",
            "              ______\n",
            "               |o  |   !\n",
            "   __          |:`_|---'-.\n",
            "  |__|______.-/ _ \\-----.|\n",
            " (o)(o)------'\\ _ /     ( )\n",
            " \n",
            "INFO:haystack.modeling.data_handler.data_silo:LOADING TRAIN DATA\n",
            "INFO:haystack.modeling.data_handler.data_silo:==================\n",
            "INFO:haystack.modeling.data_handler.data_silo:Loading train set from: /content/drive/MyDrive/AIR Project/GermanDPR_train_first_entry.json \n",
            "Preprocessing dataset: 100%|██████████| 1/1 [00:00<00:00, 132.15 Dicts/s]\n",
            "INFO:haystack.modeling.data_handler.data_silo:\n",
            "INFO:haystack.modeling.data_handler.data_silo:LOADING DEV DATA\n",
            "INFO:haystack.modeling.data_handler.data_silo:=================\n",
            "INFO:haystack.modeling.data_handler.data_silo:Loading dev set from: /content/drive/MyDrive/AIR Project/GermanDPR_test.json\n",
            "Preprocessing dataset: 100%|██████████| 3/3 [00:03<00:00,  1.24s/ Dicts]\n",
            "INFO:haystack.modeling.data_handler.data_silo:\n",
            "INFO:haystack.modeling.data_handler.data_silo:LOADING TEST DATA\n",
            "INFO:haystack.modeling.data_handler.data_silo:=================\n",
            "INFO:haystack.modeling.data_handler.data_silo:Loading test set from: /content/drive/MyDrive/AIR Project/GermanDPR_test.json\n",
            "Preprocessing dataset: 100%|██████████| 3/3 [00:05<00:00,  1.91s/ Dicts]\n",
            "INFO:haystack.modeling.data_handler.data_silo:\n",
            "INFO:haystack.modeling.data_handler.data_silo:DATASETS SUMMARY\n",
            "INFO:haystack.modeling.data_handler.data_silo:================\n",
            "INFO:haystack.modeling.data_handler.data_silo:Examples in train: 1\n",
            "INFO:haystack.modeling.data_handler.data_silo:Examples in dev  : 1025\n",
            "INFO:haystack.modeling.data_handler.data_silo:Examples in test : 1025\n",
            "INFO:haystack.modeling.data_handler.data_silo:Total examples   : 2051\n",
            "INFO:haystack.modeling.data_handler.data_silo:\n",
            "INFO:haystack.modeling.data_handler.data_silo:Longest query length observed after clipping: 21   - for max_query_len: 64\n",
            "INFO:haystack.modeling.data_handler.data_silo:Average query length after clipping:          21.0\n",
            "INFO:haystack.modeling.data_handler.data_silo:Proportion queries clipped:                   0.0\n",
            "INFO:haystack.modeling.data_handler.data_silo:\n",
            "INFO:haystack.modeling.data_handler.data_silo:Longest passage length observed after clipping: 256.0   - for max_passage_len: 256\n",
            "INFO:haystack.modeling.data_handler.data_silo:Average passage length after clipping:          256.0\n",
            "INFO:haystack.modeling.data_handler.data_silo:Proportion passages clipped:                    1.0\n",
            "INFO:haystack.modeling.model.optimization:Loading optimizer 'AdamW': {'correct_bias': True, 'weight_decay': 0.0, 'eps': 1e-08, 'lr': 1e-05}\n",
            "INFO:haystack.modeling.model.optimization:Using scheduler 'get_linear_schedule_with_warmup'\n",
            "INFO:haystack.modeling.model.optimization:Loading schedule 'get_linear_schedule_with_warmup': '{'num_warmup_steps': 100, 'num_training_steps': 0}'\n",
            "INFO:haystack.modeling.training.base:No train checkpoints found. Starting a new training ...\n",
            "Train epoch 0/0 (Cur. train loss: 0.0000): 100%|██████████| 1/1 [00:00<00:00,  5.93it/s]\n",
            "Evaluating: 100%|██████████| 65/65 [00:41<00:00,  1.58it/s]\n",
            "INFO:haystack.modeling.evaluation.eval:\n",
            "\n",
            "\\\\|//       \\\\|//      \\\\|//       \\\\|//     \\\\|//\n",
            "^^^^^^^^^^^^^^^^^^^^^^^^^^^^^^^^^^^^^^^^^^^^^^^^^^^^^^\n",
            "***************************************************\n",
            "***** EVALUATION | TEST SET | AFTER 1 BATCHES *****\n",
            "***************************************************\n",
            "\\\\|//       \\\\|//      \\\\|//       \\\\|//     \\\\|//\n",
            "^^^^^^^^^^^^^^^^^^^^^^^^^^^^^^^^^^^^^^^^^^^^^^^^^^^^^^\n",
            "\n",
            "INFO:haystack.modeling.evaluation.eval:\n",
            " _________ text_similarity _________\n",
            "INFO:haystack.modeling.evaluation.eval:loss: 0.21136056818477256\n",
            "INFO:haystack.modeling.evaluation.eval:task_name: text_similarity\n",
            "INFO:haystack.modeling.evaluation.eval:acc: 0.9636252670125114\n",
            "INFO:haystack.modeling.evaluation.eval:f1: 0.41853658536585364\n",
            "INFO:haystack.modeling.evaluation.eval:acc_and_f1: 0.6910809261891825\n",
            "INFO:haystack.modeling.evaluation.eval:average_rank: 3.08\n",
            "INFO:haystack.modeling.evaluation.eval:report: \n",
            "                precision    recall  f1-score   support\n",
            "\n",
            "hard_negative     0.9812    0.9812    0.9812     31745\n",
            "     positive     0.4185    0.4185    0.4185      1025\n",
            "\n",
            "     accuracy                         0.9636     32770\n",
            "    macro avg     0.6999    0.6999    0.6999     32770\n",
            " weighted avg     0.9636    0.9636    0.9636     32770\n",
            "\n",
            "INFO:haystack.modeling.model.biadaptive_model:prediction_head saving\n"
          ]
        }
      ]
    },
    {
      "cell_type": "markdown",
      "source": [
        "**Output train only first entry of GermanQuAD:**\n",
        "---------------------------------------------------\n",
        "\n",
        "\\\\|//       \\\\|//      \\\\|//       \\\\|//     \\\\|//\n",
        "^^^^^^^^^^^^^^^^^^^^^^^^^^^^^^^^^^^^^^^^^^^^^^^^^^^^^^\n",
        "***************************************************\n",
        "***** EVALUATION | TEST SET | AFTER 1 BATCHES *****\n",
        "***************************************************\n",
        "\\\\|//       \\\\|//      \\\\|//       \\\\|//     \\\\|//\n",
        "^^^^^^^^^^^^^^^^^^^^^^^^^^^^^^^^^^^^^^^^^^^^^^^^^^^^^^\n",
        "\n",
        "INFO:haystack.modeling.evaluation.eval:\n",
        " _________ text_similarity _________\n",
        "INFO:haystack.modeling.evaluation.eval:loss: 0.16717383376375083\n",
        "INFO:haystack.modeling.evaluation.eval:task_name: text_similarity\n",
        "INFO:haystack.modeling.evaluation.eval:acc: 0.9715754202635166\n",
        "INFO:haystack.modeling.evaluation.eval:f1: 0.5458257713248639\n",
        "INFO:haystack.modeling.evaluation.eval:acc_and_f1: 0.7587005957941902\n",
        "INFO:haystack.modeling.evaluation.eval:average_rank: 1.7599818511796734\n",
        "INFO:haystack.modeling.evaluation.eval:report:\n",
        "                precision    recall  f1-score   support\n",
        "\n",
        "hard_negative     0.9853    0.9853    0.9853     68228\n",
        "     positive     0.5458    0.5458    0.5458      2204\n",
        "\n",
        "     accuracy                         0.9716     70432\n",
        "    macro avg     0.7656    0.7656    0.7656     70432\n",
        " weighted avg     0.9716    0.9716    0.9716     70432"
      ],
      "metadata": {
        "id": "AbnnBtaVjsxR"
      }
    },
    {
      "cell_type": "markdown",
      "source": [
        "**Output train only first entry of GermanDPR:**\n",
        "---------------------------------------------------\n",
        "\n",
        "\\\\|//       \\\\|//      \\\\|//       \\\\|//     \\\\|//\n",
        "^^^^^^^^^^^^^^^^^^^^^^^^^^^^^^^^^^^^^^^^^^^^^^^^^^^^^^\n",
        "***************************************************\n",
        "***** EVALUATION | TEST SET | AFTER 1 BATCHES *****\n",
        "***************************************************\n",
        "\\\\|//       \\\\|//      \\\\|//       \\\\|//     \\\\|//\n",
        "^^^^^^^^^^^^^^^^^^^^^^^^^^^^^^^^^^^^^^^^^^^^^^^^^^^^^^\n",
        "\n",
        "INFO:haystack.modeling.evaluation.eval:\n",
        " _________ text_similarity _________\n",
        "INFO:haystack.modeling.evaluation.eval:loss: 0.21136056818477256\n",
        "INFO:haystack.modeling.evaluation.eval:task_name: text_similarity\n",
        "INFO:haystack.modeling.evaluation.eval:acc: 0.9636252670125114\n",
        "INFO:haystack.modeling.evaluation.eval:f1: 0.41853658536585364\n",
        "INFO:haystack.modeling.evaluation.eval:acc_and_f1: 0.6910809261891825\n",
        "INFO:haystack.modeling.evaluation.eval:average_rank: 3.08\n",
        "INFO:haystack.modeling.evaluation.eval:report:\n",
        "                precision    recall  f1-score   support\n",
        "\n",
        "hard_negative     0.9812    0.9812    0.9812     31745\n",
        "     positive     0.4185    0.4185    0.4185      1025\n",
        "\n",
        "     accuracy                         0.9636     32770\n",
        "    macro avg     0.6999    0.6999    0.6999     32770\n",
        " weighted avg     0.9636    0.9636    0.9636     32770"
      ],
      "metadata": {
        "id": "p7Fd3C4Llkqd"
      }
    },
    {
      "cell_type": "markdown",
      "source": [
        "**Ouput finetuned GermanQuAD:**\n",
        "---------------------------------------------------\n",
        "\n",
        "\\\\|//       \\\\|//      \\\\|//       \\\\|//     \\\\|//\n",
        "^^^^^^^^^^^^^^^^^^^^^^^^^^^^^^^^^^^^^^^^^^^^^^^^^^^^^^\n",
        "***************************************************\n",
        "***** EVALUATION | TEST SET | AFTER 2880 BATCHES *****\n",
        "***************************************************\n",
        "\\\\|//       \\\\|//      \\\\|//       \\\\|//     \\\\|//\n",
        "^^^^^^^^^^^^^^^^^^^^^^^^^^^^^^^^^^^^^^^^^^^^^^^^^^^^^^\n",
        "\n",
        "INFO:haystack.modeling.evaluation.eval:\n",
        " _________ text_similarity _________\n",
        "INFO:haystack.modeling.evaluation.eval:loss: 0.21550037061268748\n",
        "INFO:haystack.modeling.evaluation.eval:task_name: text_similarity\n",
        "INFO:haystack.modeling.evaluation.eval:acc: 0.9765199637023594\n",
        "INFO:haystack.modeling.evaluation.eval:f1: 0.9060798548094374\n",
        "INFO:haystack.modeling.evaluation.eval:acc_and_f1: 0.9412999092558985\n",
        "INFO:haystack.modeling.evaluation.eval:average_rank: 0.13520871143375682\n",
        "INFO:haystack.modeling.evaluation.eval:report:\n",
        "                precision    recall  f1-score   support\n",
        "\n",
        "hard_negative     0.9866    0.9866    0.9866     15428\n",
        "     positive     0.9061    0.9061    0.9061      2204\n",
        "\n",
        "     accuracy                         0.9765     17632\n",
        "    macro avg     0.9463    0.9463    0.9463     17632\n",
        " weighted avg     0.9765    0.9765    0.9765     17632"
      ],
      "metadata": {
        "id": "CiIRqPX9lSrg"
      }
    },
    {
      "cell_type": "markdown",
      "source": [
        "**Output finetuned GermanDPR**\n",
        "---------------------------------------------------\n",
        "\n",
        "\\\\|//       \\\\|//      \\\\|//       \\\\|//     \\\\|//\n",
        "^^^^^^^^^^^^^^^^^^^^^^^^^^^^^^^^^^^^^^^^^^^^^^^^^^^^^^\n",
        "***************************************************\n",
        "***** EVALUATION | TEST SET | AFTER 2319 BATCHES *****\n",
        "***************************************************\n",
        "\\\\|//       \\\\|//      \\\\|//       \\\\|//     \\\\|//\n",
        "^^^^^^^^^^^^^^^^^^^^^^^^^^^^^^^^^^^^^^^^^^^^^^^^^^^^^^\n",
        "\n",
        "INFO:haystack.modeling.evaluation.eval:\n",
        " _________ text_similarity _________\n",
        "INFO:haystack.modeling.evaluation.eval:loss: 0.3636443769713743\n",
        "INFO:haystack.modeling.evaluation.eval:task_name: text_similarity\n",
        "INFO:haystack.modeling.evaluation.eval:acc: 0.9433731999023676\n",
        "INFO:haystack.modeling.evaluation.eval:f1: 0.7736585365853659\n",
        "INFO:haystack.modeling.evaluation.eval:acc_and_f1: 0.8585158682438667\n",
        "INFO:haystack.modeling.evaluation.eval:average_rank: 0.36\n",
        "INFO:haystack.modeling.evaluation.eval:report:\n",
        "                precision    recall  f1-score   support\n",
        "\n",
        "hard_negative     0.9676    0.9676    0.9676      7169\n",
        "     positive     0.7737    0.7737    0.7737      1025\n",
        "\n",
        "     accuracy                         0.9434      8194\n",
        "    macro avg     0.8706    0.8706    0.8706      8194\n",
        " weighted avg     0.9434    0.9434    0.9434      8194"
      ],
      "metadata": {
        "id": "il-e4PT1dgeX"
      }
    },
    {
      "cell_type": "code",
      "source": [],
      "metadata": {
        "id": "SbfqQR_TdlHj"
      },
      "execution_count": 16,
      "outputs": []
    }
  ]
}